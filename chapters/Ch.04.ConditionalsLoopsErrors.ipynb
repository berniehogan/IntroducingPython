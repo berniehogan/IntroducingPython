{
 "cells": [
  {
   "cell_type": "markdown",
   "metadata": {
    "tags": []
   },
   "source": [
    "# Chapter 4. Conditionals, Loops, and Errors"
   ]
  },
  {
   "cell_type": "markdown",
   "metadata": {},
   "source": [
    "# Using conditionals to change the flow of a program \n",
    "\n",
    "[![Binder](https://mybinder.org/badge.svg)](https://mybinder.org/v2/gh/berniehogan/introducingpython/main?filepath=chapters%2FCh.04.ConditionalsLoopsErrors.ipynb)\n",
    "[![Colab](https://colab.research.google.com/assets/colab-badge.svg)](https://colab.research.google.com/github/berniehogan/introducingpython/blob/main/chapters/Ch.04.ConditionalsLoopsErrors.ipynb)\n",
    "\n",
    "One way to manage the flow of data through an algorithm is to use conditionals. This means that we will evaluate some data. If the evaluation is true then we can do something. If the evaluation is false we can do something else. Now in life there are many sides to every story. But in Python we tend to work with strict conditions that are either fulfilled or not. For example we would have a set of things, `characters = {\"Kermit\",\"Piggy\",\"Fozzie\"}` and if we ask `\"Kermit\" in characters` the program will return `True`. "
   ]
  },
  {
   "cell_type": "code",
   "execution_count": 3,
   "metadata": {
    "tags": []
   },
   "outputs": [
    {
     "data": {
      "text/plain": [
       "True"
      ]
     },
     "execution_count": 3,
     "metadata": {},
     "output_type": "execute_result"
    }
   ],
   "source": [
    "characters = {\"Kermit\",\"Piggy\",\"Fozzie\"}\n",
    "\"Kermit\" in characters"
   ]
  },
  {
   "cell_type": "markdown",
   "metadata": {},
   "source": [
    "You might have noticed that Kermit, Piggy, and Fozzie are all names of characters from The Muppet Show. So in a sense you might say muppet in `characters` is true, but Python doesn't know that. Python is not giving a meaning to the text, it is simply evaluating the string of characters against another string. "
   ]
  },
  {
   "cell_type": "markdown",
   "metadata": {},
   "source": [
    "The most common conditional in Python is probably the `==` comparator. This is two `=` characters in a row. One equals character is what we use for variable assignment. Two characters is for comparisons. See below for an example of comparisons using `==`. "
   ]
  },
  {
   "cell_type": "code",
   "execution_count": 4,
   "metadata": {},
   "outputs": [
    {
     "name": "stdout",
     "output_type": "stream",
     "text": [
      "True\n",
      "False\n",
      "False\n"
     ]
    }
   ],
   "source": [
    "a = 42\n",
    "print(a == 42)\n",
    "\n",
    "b = 55\n",
    "print(a == b)\n",
    "\n",
    "b = 55\n",
    "print(b == 42)"
   ]
  },
  {
   "cell_type": "code",
   "execution_count": null,
   "metadata": {},
   "outputs": [],
   "source": [
    "print(a = 42)"
   ]
  },
  {
   "cell_type": "markdown",
   "metadata": {},
   "source": [
    "## Boolean operators \n",
    "\n",
    "The primitive data type we spent virtually no time on in the prior chapter is the Boolean variable. This is a variable that is either `True` or `False`. To get Python to return a Boolean, all you need to do is make a comparison using a Boolean operator.\n",
    "\n",
    "- `==` is used for comparison. Does X equal Y? `x == y`\n",
    "- `and` is used to ask if two things are both true. `x and y`\n",
    "- `or` is used to ask if either thing is true. `x or y`\n",
    "- `not` as well as `!` are used for not. `not x`\n",
    "- `>` is used for left side greater than right side. `x > y`\n",
    "- `<` is used for left side less than right side. `x < y `\n",
    "- `in` is used for membership of element in set. `x in y`\n",
    "- `is` is used to check if two labels point to the same variable `x is y`"
   ]
  },
  {
   "cell_type": "code",
   "execution_count": 9,
   "metadata": {},
   "outputs": [
    {
     "name": "stdout",
     "output_type": "stream",
     "text": [
      "x: yes\n",
      "x_list: ['yes', 'no', 'maybe']\n",
      "x in x_list: True\n",
      "\n",
      "x_list == [\"yes\",\"no\",\"maybe\"]: True\n",
      "x_list is [\"yes\",\"no\",\"maybe\"]: False\n",
      "\n",
      "y_list is x_list: True\n"
     ]
    }
   ],
   "source": [
    "x = \"yes\"\n",
    "print(\"x:\",x)\n",
    "\n",
    "x_list = ['yes','no','maybe']\n",
    "print(\"x_list:\",x_list)\n",
    "\n",
    "print(\"x in x_list:\",x in x_list)\n",
    "print()\n",
    "print('x_list == [\"yes\",\"no\",\"maybe\"]:',x_list == [\"yes\",\"no\",\"maybe\"]) \n",
    "print('x_list is [\"yes\",\"no\",\"maybe\"]:',x_list is [\"yes\",\"no\",\"maybe\"]) \n",
    "print()\n",
    "\n",
    "y_list = x_list\n",
    "print(\"y_list is x_list:\", y_list is x_list)"
   ]
  },
  {
   "cell_type": "code",
   "execution_count": 10,
   "metadata": {
    "tags": []
   },
   "outputs": [
    {
     "name": "stdout",
     "output_type": "stream",
     "text": [
      "['yes', 'no']\n"
     ]
    }
   ],
   "source": [
    "x_list.pop()\n",
    "print(y_list)"
   ]
  },
  {
   "cell_type": "markdown",
   "metadata": {},
   "source": [
    "## Flow control using `if` statements and Boolean operators\n",
    "\n",
    "Inside a loop or inside a program generally you will want to direct the flow of the program. That is to say, you will want the program to do different things under different conditions. So with the operators above we can direct the flow of a program using `if` statements. \n",
    "\n",
    "When the `if` statement is true, we run the code \"inside\" the if condition. Inside in python is denoted spatially, generally using spaces (or rarely tab characters). The convention is four spaces per code depth. \n",
    "\n",
    "After pressing enter while inside an if statement the cursor should automatically be tabbed in. "
   ]
  },
  {
   "cell_type": "code",
   "execution_count": 158,
   "metadata": {
    "tags": []
   },
   "outputs": [
    {
     "name": "stdout",
     "output_type": "stream",
     "text": [
      "As was foretold.\n"
     ]
    }
   ],
   "source": [
    "if True:\n",
    "    print(\"As was foretold.\")\n",
    "    \n",
    "if 4 == 6:\n",
    "    print(\"Things are not what they seem.\")"
   ]
  },
  {
   "cell_type": "markdown",
   "metadata": {},
   "source": [
    "With an if statement also comes an else statement. Below I am going to simulate a coin toss using the `random` module. That module has a method called choice. You can probably follow all the rest by reading the code and running it a few times. "
   ]
  },
  {
   "cell_type": "code",
   "execution_count": 15,
   "metadata": {},
   "outputs": [],
   "source": [
    "import random "
   ]
  },
  {
   "cell_type": "code",
   "execution_count": 160,
   "metadata": {},
   "outputs": [
    {
     "name": "stdout",
     "output_type": "stream",
     "text": [
      "You win!\n"
     ]
    }
   ],
   "source": [
    "coin_sides = [\"heads\",\"tails\"]\n",
    "\n",
    "if random.choice(coin_sides) == \"heads\":\n",
    "    print(\"You win!\")\n",
    "else:\n",
    "    print(\"Sorry, better luck next time.\")"
   ]
  },
  {
   "cell_type": "markdown",
   "metadata": {},
   "source": [
    "As it happens, there might be more than two conditions you want to cover. One way to include multiple conditions is to use an `elif` statement, which is combination of `else` and `if`. "
   ]
  },
  {
   "cell_type": "code",
   "execution_count": 32,
   "metadata": {},
   "outputs": [
    {
     "name": "stdout",
     "output_type": "stream",
     "text": [
      "where did it go?\n"
     ]
    }
   ],
   "source": [
    "coin_sides = [\"heads\",\"tails\",\"rim\",\"vaporized\"]\n",
    "side = random.choice(coin_sides)\n",
    "\n",
    "if side == \"heads\": \n",
    "    print(\"You win!\")\n",
    "elif side == \"tails\":\n",
    "    print(\"Sorry, better luck next time.\")\n",
    "else: \n",
    "    if side ==\"rim\":\n",
    "        print(\"It landed on its side, what are the odds?\")\n",
    "    else: \n",
    "        print(\"where did it go?\")"
   ]
  },
  {
   "cell_type": "markdown",
   "metadata": {},
   "source": [
    "Notice in the example above that we have added a second level of `if-else` conditions. This second level involves even more spaces before each line. This manner of using conditions helps to track when a line of code is inside a condition, a loop, etc. It's not the only way to break a line of code across two lines, so its' worth noting that you can't exclusively rely on the visual layout for flow. Nevertheless, it does generally help us detect where we are in terms of the flow of the code."
   ]
  },
  {
   "cell_type": "markdown",
   "metadata": {},
   "source": [
    "## The walrus operator ( `:=`) \n",
    "\n",
    "In the first coin flip example above I placed `random.choice` inside the `if` statement. Yet, in the second example I didn't, but instead went `side = random.choice(coin_sides)` and then compared `side` in the `if` statement. Why do you think that was? \n",
    "\n",
    "It was because if I went: \n",
    "\n",
    "~~~ python\n",
    "if random.choice(coin_sides) == \"heads\":\n",
    "    print(\"You win!\")\n",
    "elif random.choice(coin_sides) == \"tails: \n",
    "    print(\"Sorry, better luck next time.\")\n",
    "~~~\n",
    "\n",
    "Then in the `elif` statement I would run an entirely different `random.choice`, which was not my intention. I intended to run `random.choice` once and ask about that under a few conditions. So I created that `side` variable first and then I ran the program. But if I was able somehow turn that first `random.choice` into a variable `side` _inside_ the if statement then I could skip a step. This is the new walrus operator, which looks like `:=` or two eyes and tusks. It stores the result of whatever comes after it. \n",
    "\n",
    "It is new to Python 3.8 so check below to see if it is included in your version. "
   ]
  },
  {
   "cell_type": "code",
   "execution_count": 36,
   "metadata": {
    "tags": []
   },
   "outputs": [
    {
     "data": {
      "text/plain": [
       "'3.11.5 (main, Sep 11 2023, 08:31:25) [Clang 14.0.6 ]'"
      ]
     },
     "execution_count": 36,
     "metadata": {},
     "output_type": "execute_result"
    }
   ],
   "source": [
    "import sys\n",
    "sys.version"
   ]
  },
  {
   "cell_type": "code",
   "execution_count": 161,
   "metadata": {},
   "outputs": [
    {
     "name": "stdout",
     "output_type": "stream",
     "text": [
      "Sorry, better luck next time.\n"
     ]
    }
   ],
   "source": [
    "if (side := random.choice(coin_sides)) == \"heads\":\n",
    "    print(\"You win!\")\n",
    "elif side == \"tails\":\n",
    "    print(\"Sorry, better luck next time.\")\n",
    "elif side == \"rim\":\n",
    "    print(\"It landed on its side, what are the odds?\")\n",
    "else:\n",
    "    print(side)"
   ]
  },
  {
   "cell_type": "markdown",
   "metadata": {},
   "source": [
    "Notice I had to put the walrus in parenthesis. That's because I wanted to assign `random.choice(coin_sides)` to `side` and not the full `random.choice(coin_sides) == \"heads\"` to `side`. In the former case `side` would be one of our three choices. In the latter case `side` would end up being `True` or `False`. "
   ]
  },
  {
   "cell_type": "markdown",
   "metadata": {},
   "source": [
    "## Comparing things _other_ than Booleans \n",
    "\n",
    "There are some tedious issues with comparisons when you are not Boolean operators. Below I show some issues with comparing numbers, strings, and empty variables. "
   ]
  },
  {
   "cell_type": "markdown",
   "metadata": {},
   "source": [
    "### You can compare strings. \n",
    "String encodings have code points. These are used to evaluate whether one string is greater than another. So you can ask if ```a > b```. The behavior can be a bit unexpected so I would only use this with caution. For example, what's greater: ```A, a,``` or ```B```? "
   ]
  },
  {
   "cell_type": "code",
   "execution_count": 162,
   "metadata": {},
   "outputs": [
    {
     "name": "stdout",
     "output_type": "stream",
     "text": [
      "Is a > b?\n",
      "False\n",
      "\n",
      "Is A > b?\n",
      "False\n",
      "\n",
      "Is a > A?\n",
      "True\n"
     ]
    }
   ],
   "source": [
    "# String comparisons \n",
    "print(\"Is a > b?\")\n",
    "print('a' > 'b')\n",
    "\n",
    "print(\"\\nIs A > b?\")\n",
    "print('A' > 'b')\n",
    "\n",
    "print(\"\\nIs a > A?\")\n",
    "print('a' > 'A')"
   ]
  },
  {
   "cell_type": "markdown",
   "metadata": {},
   "source": [
    "The reason these comparisons work (as indeed to such comparisons for any string variable) is because they are done using the \"character map\". This is the map of all characters you can represent in Python. By default, this is the unicode character set which includes everything from Chinese ideograms to emoji alongside the standard unaccented 26 letters of the modern latin alphabet and the ten numerals. "
   ]
  },
  {
   "cell_type": "code",
   "execution_count": 163,
   "metadata": {
    "tags": []
   },
   "outputs": [
    {
     "name": "stdout",
     "output_type": "stream",
     "text": [
      "98\n",
      "65\n",
      "128526\n"
     ]
    }
   ],
   "source": [
    "print(ord('b'))\n",
    "print(ord('A'))\n",
    "print(ord('😎'))"
   ]
  },
  {
   "cell_type": "markdown",
   "metadata": {},
   "source": [
    "### Comparing numbers: zero is false, one is true, the rest are trouble\n",
    "\n",
    "When comparing numbers, you can of course assess whether numbers are greater or less than each other with ease. But what if you want to assess whether a number is true or false? In Python, the number 0 equals `False`, the number 1 equals `True`, and the rest are neither `True` nor `False`. This is quite strange to say they are neither true nor false. But follow the code below to see this in action:  "
   ]
  },
  {
   "cell_type": "code",
   "execution_count": 55,
   "metadata": {},
   "outputs": [
    {
     "name": "stdout",
     "output_type": "stream",
     "text": [
      "What evalues to 'True'?\n",
      "-1\t False\n",
      "0\t False\n",
      "1\t True\n",
      "2\t False\n"
     ]
    }
   ],
   "source": [
    "print(\"What evalues to 'True'?\")\n",
    "print(\"-1\\t\", -1 == True)\n",
    "print(\"0\\t\",   0 == True)\n",
    "print(\"1\\t\",   1 == True)\n",
    "print(\"2\\t\",   2 == True)"
   ]
  },
  {
   "cell_type": "code",
   "execution_count": 56,
   "metadata": {},
   "outputs": [
    {
     "name": "stdout",
     "output_type": "stream",
     "text": [
      "\n",
      "What evalues to 'False'?\n",
      "-1\t False\n",
      "0\t True\n",
      "1\t False\n",
      "2\t False\n"
     ]
    }
   ],
   "source": [
    "print(\"\\nWhat evalues to 'False'?\")\n",
    "\n",
    "print(\"-1\\t\", -1 == False)\n",
    "print(\"0\\t\",   0 == False)\n",
    "print(\"1\\t\",   1 == False)\n",
    "print(\"2\\t\",   2 == False)"
   ]
  },
  {
   "cell_type": "markdown",
   "metadata": {},
   "source": [
    "### Not everything that is empty...is False.\n",
    "\n",
    "There are a number of ways of expressing _nothing_ in Python. There's the notion of a variable being `None` or empty. There's a numeric variable that isn't actually a number (`nan`, for _Not A Number_ for things that don't compute or are missing), there's the empty string `\"\"` and certainly more. Be extra careful when evaluating these as `True` or `False`."
   ]
  },
  {
   "cell_type": "code",
   "execution_count": 57,
   "metadata": {},
   "outputs": [
    {
     "name": "stdout",
     "output_type": "stream",
     "text": [
      "False\n",
      "False\n"
     ]
    }
   ],
   "source": [
    "import numpy as np # The Python numeric package 'numpy'.\n",
    "\n",
    "print(np.nan == True)\n",
    "print(np.nan == False)"
   ]
  },
  {
   "cell_type": "markdown",
   "metadata": {},
   "source": [
    "Ok so `nan` like the numbers 2 and -1 is neither equal to True or False. Yet observe below: "
   ]
  },
  {
   "cell_type": "code",
   "execution_count": 58,
   "metadata": {},
   "outputs": [
    {
     "name": "stdout",
     "output_type": "stream",
     "text": [
      "Nan evaluates as True\n"
     ]
    }
   ],
   "source": [
    "if np.nan: \n",
    "    print(\"NaN evaluates as True\")\n",
    "else: \n",
    "    print(\"NaN evaluates as False\")"
   ]
  },
  {
   "cell_type": "markdown",
   "metadata": {},
   "source": [
    "Curiouser and curiouser. The reason partially is that `np.nan` is interpreted as being 'Not a number'. Thus, taken literally it's neither greater nor lesser than any number, it's just not a number. It's mentioned here because it does tend to come up for cases with missing data in Python. Also, you may see `np.nan` or `np.NaN` but they are equivalent.  "
   ]
  },
  {
   "cell_type": "code",
   "execution_count": 178,
   "metadata": {
    "tags": []
   },
   "outputs": [
    {
     "name": "stdout",
     "output_type": "stream",
     "text": [
      "False\n",
      "False\n",
      "True\n",
      "False\n",
      "True\n"
     ]
    }
   ],
   "source": [
    "print(np.nan >  100)\n",
    "print(np.nan <  100)\n",
    "print(np.nan != np.nan)\n",
    "print(np.nan == np.nan)\n",
    "print(np.nan is np.NaN)"
   ]
  },
  {
   "cell_type": "markdown",
   "metadata": {},
   "source": [
    "Below are some other empty strings. Again neither of them are equal to the Boolean `True` or `False` values but yet they still somehow can be used in `if` statements. "
   ]
  },
  {
   "cell_type": "code",
   "execution_count": 176,
   "metadata": {},
   "outputs": [
    {
     "name": "stdout",
     "output_type": "stream",
     "text": [
      "False\n",
      "False\n",
      "None evaluates as False\n"
     ]
    }
   ],
   "source": [
    "print(None == True)\n",
    "print(None == False)\n",
    "\n",
    "if None: \n",
    "    print(\"None evaluates as True\")\n",
    "else:\n",
    "    print(\"None evaluates as False\")"
   ]
  },
  {
   "cell_type": "code",
   "execution_count": 177,
   "metadata": {},
   "outputs": [
    {
     "name": "stdout",
     "output_type": "stream",
     "text": [
      "False\n",
      "False\n",
      "Empty quotes evaluate as False\n"
     ]
    }
   ],
   "source": [
    "print(\"\" == True)\n",
    "print(\"\" == False)\n",
    "\n",
    "if \"\": \n",
    "    print(\"Empty quotes evaluate as True\")\n",
    "else:\n",
    "    print(\"Empty quotes evaluate as False\")"
   ]
  },
  {
   "cell_type": "markdown",
   "metadata": {},
   "source": [
    "# Iteration to simplify repetitive tasks"
   ]
  },
  {
   "cell_type": "markdown",
   "metadata": {},
   "source": [
    "Often times we can think of something to do with a program but doing it once might be easier by hand. For example, imagine having a file with the name `\"John_Smith_131313.pdf\"`, and having some other detail linked to ID 131313 rather the name. If we want to find application 131313 we will have to look through the whole list one by one. So you get the idea that it would be easier to rename the file `131313_John_Smith.pdf`. Doing that by hand is not too hard. Now imagine you have dozens or hundreds of files. At some point it will become easier find a way to automate this task. \n",
    "\n",
    "If the files were named `\"Jane_1412223_Doe.pdf\"`,`\"John_Smith_131313.pdf\"`,`\"Bernie_13Ho151gan.pdf\"`, etc., then this would be a harder (but not necessarily impossible) task. To that end, we tend to want collections to have some consistency to them. Then we can make use of that consistency in order to define an operation once and do it for all the items. Let's look at one part of this particular challenge first and then generalise to loops second. "
   ]
  },
  {
   "cell_type": "code",
   "execution_count": 72,
   "metadata": {
    "tags": []
   },
   "outputs": [
    {
     "name": "stdout",
     "output_type": "stream",
     "text": [
      "131313.pdf\n",
      "113113.pdf\n",
      "112358.pdf\n"
     ]
    }
   ],
   "source": [
    "records = [\"John_Smith_131313.pdf\",\n",
    "           \"Bernie_Hogan_113113.pdf\",\n",
    "           \"Richard_D_James_112358.pdf\"]\n",
    "\n",
    "for record in records: \n",
    "    print(record.split(\"_\")[-1])"
   ]
  },
  {
   "cell_type": "markdown",
   "metadata": {},
   "source": [
    "So we didn't get all the way to changing the names here, but that is unnecessary to make the main point. Notice that we did the same thing to each of the records iteratively. We took each `record` one after the other, split the record at the underscores and printed the last element. We used the Python syntax of `for <element> in <collection>: <do something>`. This syntax is called a `for loop`. \n",
    "\n",
    "As a verb we would _loop_ over a collection, but also as a noun, would refer to 'the loop' as the set of iterations. So we could _loop_ over a collection of items but also if we stop halfway through because of an error we have just \"broke the _loop_\" so to speak."
   ]
  },
  {
   "cell_type": "markdown",
   "metadata": {},
   "source": [
    "## Iterating using a `for` loop. \n",
    "As I mentioned in Chapter \\ref{ch:collections}, virtually all collections are iterable. That means they will start with one element in the collection and keep giving you elements until you exhaust all the elements. In the loop example above, every time we went through the loop we used a different element from the list. That element became our `record`. Notice that the final time we do not clear the variable, so you can ask for `record` below and it will give you the last one from the above result."
   ]
  },
  {
   "cell_type": "code",
   "execution_count": null,
   "metadata": {},
   "outputs": [],
   "source": [
    "print(record)"
   ]
  },
  {
   "cell_type": "markdown",
   "metadata": {},
   "source": [
    "Sometimes the collection is ordered, such as a `list`, and sometimes the collection is unordered, such as a `set` or a `dictionary`. Regardless, you are able to perform some action with each element of the collection and know that once you've finished you've iterated through every element of the collection. The process of going through all the items is called **iterating**. "
   ]
  },
  {
   "cell_type": "markdown",
   "metadata": {},
   "source": [
    "The way to iterate through a collection in Python is to use a `for` loop. It is called a `for` loop because we use it to do something _for_ each element in a collection. In fact, the way it is written is meant to be similar to written English. \n",
    "\n",
    "Since we iterate through the collection, we need a temporary variable to represent the next item each time. That was the `record` variable above. We could have named it anything, but `record` was useful to help us understand what kind of item was in the collection. Often times people will use `i` for the iterator, like with the following: "
   ]
  },
  {
   "cell_type": "code",
   "execution_count": 73,
   "metadata": {},
   "outputs": [
    {
     "name": "stdout",
     "output_type": "stream",
     "text": [
      "0\n",
      "1\n",
      "2\n",
      "3\n",
      "4\n"
     ]
    }
   ],
   "source": [
    "for i in range(5):\n",
    "    print(i)"
   ]
  },
  {
   "cell_type": "markdown",
   "metadata": {},
   "source": [
    "Sometimes you will encounter `_` instead of i. That's meant to signify that while you are iterating through a collection you are not interested in the variable. For example, imagine you wanted to print a counter for each element in a list but only print the counter and not the value. "
   ]
  },
  {
   "cell_type": "code",
   "execution_count": 180,
   "metadata": {},
   "outputs": [
    {
     "name": "stdout",
     "output_type": "stream",
     "text": [
      "0\n",
      "1\n",
      "2\n"
     ]
    }
   ],
   "source": [
    "counter = 0 \n",
    "for _ in [\"apple\",\"banana\",\"cherry\"]:\n",
    "    print(counter)\n",
    "    counter += 1"
   ]
  },
  {
   "cell_type": "markdown",
   "metadata": {},
   "source": [
    "## The `else` condition \n",
    "\n",
    "When a loop ends you can do something specifically at the end of the loop. This you can define as the `else` condition. "
   ]
  },
  {
   "cell_type": "code",
   "execution_count": 76,
   "metadata": {},
   "outputs": [
    {
     "name": "stdout",
     "output_type": "stream",
     "text": [
      "0\n",
      "1\n",
      "2\n",
      "3\n",
      "4\n",
      "Done!\n"
     ]
    }
   ],
   "source": [
    "for num in range(5):\n",
    "    print(num)\n",
    "else:\n",
    "    print(\"Done!\")"
   ]
  },
  {
   "cell_type": "markdown",
   "metadata": {},
   "source": [
    "Now to be clear, this is not `if` and then `else`. This is `for` and then `else`. It's a bit of a strange name. Perhaps it might be better if it was called `after` or `once_finished`, but they called it `else`.  "
   ]
  },
  {
   "cell_type": "markdown",
   "metadata": {},
   "source": [
    "## Enumerate"
   ]
  },
  {
   "cell_type": "markdown",
   "metadata": {},
   "source": [
    "Sometimes when you are iterating through a for loop it is useful to have a counter. Python does not provide one by default. So you might end up doing the following: "
   ]
  },
  {
   "cell_type": "code",
   "execution_count": 77,
   "metadata": {},
   "outputs": [
    {
     "name": "stdout",
     "output_type": "stream",
     "text": [
      "0\tapple\n",
      "1\tbanana\n",
      "2\tcherry\n",
      "3\tdate\n"
     ]
    }
   ],
   "source": [
    "list_of_fruit = [\"apple\",\"banana\",\"cherry\",\"date\"]\n",
    "\n",
    "counter = 0\n",
    "for fruit in list_of_fruit: \n",
    "    print(str(counter),fruit,sep=\"\\t\")\n",
    "    counter += 1 "
   ]
  },
  {
   "cell_type": "markdown",
   "metadata": {},
   "source": [
    "A more pythonic way of doing this would be to use a special function called ```enumerate()```. This function takes in your collection and then during the for loop returns **both** a counter and one element at a time from your collection. See `enumerate` in action below:  "
   ]
  },
  {
   "cell_type": "code",
   "execution_count": 181,
   "metadata": {},
   "outputs": [
    {
     "name": "stdout",
     "output_type": "stream",
     "text": [
      "0. apple\n",
      "1. banana\n",
      "2. cherry\n",
      "3. date\n"
     ]
    }
   ],
   "source": [
    "list_of_fruit = [\"apple\",\"banana\",\"cherry\",\"date\"]\n",
    "\n",
    "for counter, fruit in enumerate(list_of_fruit):\n",
    "    print(counter,fruit,sep=\". \")"
   ]
  },
  {
   "cell_type": "markdown",
   "metadata": {},
   "source": [
    "The enumerate function has an additional parameter `start`. The default value is `0` which is why above we printed `0. apple` on the first line. If we say `start=1` inside the enumerate (or just `enumerate(<collection>, 1)` then we will get a list starting from 1 instead."
   ]
  },
  {
   "cell_type": "code",
   "execution_count": 85,
   "metadata": {},
   "outputs": [
    {
     "name": "stdout",
     "output_type": "stream",
     "text": [
      "1. apple\n",
      "2. banana\n",
      "3. cherry\n",
      "4. date\n"
     ]
    }
   ],
   "source": [
    "list_of_fruit = [\"apple\",\"banana\",\"cherry\",\"date\"]\n",
    "\n",
    "for counter, fruit in enumerate(list_of_fruit,1):\n",
    "    print(counter,fruit,sep=\". \")"
   ]
  },
  {
   "cell_type": "markdown",
   "metadata": {},
   "source": [
    "One very common use of enumerate is to report something every $n^{th}$ iteration. The trick here is to use 'the remainder' from integer division. Since we have a counter `c`, when we divide that counter by $n$ using integer division we will get a remainder. That remainder will be 0 every n times. See below where we will print every fifth number: "
   ]
  },
  {
   "cell_type": "code",
   "execution_count": 195,
   "metadata": {},
   "outputs": [
    {
     "name": "stdout",
     "output_type": "stream",
     "text": [
      "0\n",
      "5\n",
      "10\n",
      "15\n",
      "20\n",
      "25\n"
     ]
    }
   ],
   "source": [
    "for c, num in enumerate(range(30)):\n",
    "    if c%5==0:\n",
    "        print(num)"
   ]
  },
  {
   "cell_type": "markdown",
   "metadata": {},
   "source": [
    "## Managing a loop with `continue` and `break`\n",
    "\n",
    "You might want to stop a loop under some condition, or stop a loop partway through and then start again for the element in the collection. To do this, we can apply `break` and `continue`. \n",
    "\n",
    "- **`break`** stops the loop completely. It does not stop a program so it continues running the code that comes _after_ the loop. \n",
    "- **`continue`** will stop that particular iteration of a loop but the loop will continue if there are more elements. \n",
    "\n",
    "You can see examples of both of these below: "
   ]
  },
  {
   "cell_type": "code",
   "execution_count": 196,
   "metadata": {
    "tags": []
   },
   "outputs": [
    {
     "name": "stdout",
     "output_type": "stream",
     "text": [
      "The word apple is 5 characters long\n",
      "The word banana is 6 characters long\n",
      "The word eggplant is 8 characters long\n"
     ]
    }
   ],
   "source": [
    "fruits = [\"apple\",\"banana\",\"cherry\",\"durian\",\"eggplant\"]\n",
    "\n",
    "for fruit in fruits:\n",
    "    if 'r' in fruit:\n",
    "        continue\n",
    "    print(f\"The word {fruit} is {len(fruit)} characters long\")"
   ]
  },
  {
   "cell_type": "markdown",
   "metadata": {},
   "source": [
    "So notice that it skipped over both `cherry` and `durian` because they had an `r` in there? That's how continue works. On the other hand, if we wanted to stop when we come across a word with `r` in it, we would have used `break` like so: "
   ]
  },
  {
   "cell_type": "code",
   "execution_count": 197,
   "metadata": {},
   "outputs": [
    {
     "name": "stdout",
     "output_type": "stream",
     "text": [
      "The word apple is 5 characters long\n",
      "The word banana is 6 characters long\n"
     ]
    }
   ],
   "source": [
    "fruits = [\"apple\",\"banana\",\"cherry\",\"durian\",\"eggplant\"]\n",
    "\n",
    "for fruit in fruits:\n",
    "    if 'r' in fruit:\n",
    "        break\n",
    "    print(f\"The word {fruit} is {len(fruit)} characters long\")"
   ]
  },
  {
   "cell_type": "markdown",
   "metadata": {},
   "source": [
    "In this case, the program stopped once it got to cherry, since that triggered the `break` statement. "
   ]
  },
  {
   "cell_type": "markdown",
   "metadata": {},
   "source": [
    "## Double loops\n",
    "\n",
    "You can loop while inside of a loop. This is useful for thinking about data in a table form. Imagine you have a table of records such as person and their test results: \n",
    "\n",
    "| Person | Test1 | Test2 | Test3 | Test4 |\n",
    "|--------|-------|-------|-------|-------|\n",
    "| Alan   |  9    |   6   |   8   |    9  |\n",
    "| Barb   |  7    |   7   |   7   |    6  | \n",
    "| Carl   |  7    |   6   |   4   |    9  |\n",
    "| Dana   |  8    |   9   |   9   |    8  |\n",
    "| Ella   |  5    |   7   |   8   |    7  |\n",
    "\n",
    "Now imagine you want to calculate an average. You could either calculate the average _per-test_, which would move down the columns or you could calculate the average _per-student_, which would move across the rows. Both of these can be done with a double `for` loop. But the way the loop works will depend on the data structure. It would be different if we have a list of test results (e.g., `test1 = [9,7,7,8,5])` and we knew that Alan was always the first result versus if we have a list of students and new that Alan was the first student (e.g., `Alan = [9,6,8,9]`). \n",
    "\n",
    "Below I will create a list-of-lists. In this example, the inner lists will be the scores per person. That means we received a list of scores for each person one at a time. Then if we combine them we will have a table like above. "
   ]
  },
  {
   "cell_type": "code",
   "execution_count": 198,
   "metadata": {},
   "outputs": [],
   "source": [
    "results = [[9,6,8,9],\n",
    "           [7,7,7,6],\n",
    "           [7,6,4,9],\n",
    "           [8,9,9,8],\n",
    "           [5,7,8,7]]"
   ]
  },
  {
   "cell_type": "markdown",
   "metadata": {},
   "source": [
    "We can print this table using a double loop. Let's do this first before embarking on some more complicated algorithms. First let's just print it using a single loop to see what each object in `results` looks like: "
   ]
  },
  {
   "cell_type": "code",
   "execution_count": 199,
   "metadata": {},
   "outputs": [
    {
     "name": "stdout",
     "output_type": "stream",
     "text": [
      "[9, 6, 8, 9]\n",
      "[7, 7, 7, 6]\n",
      "[7, 6, 4, 9]\n",
      "[8, 9, 9, 8]\n",
      "[5, 7, 8, 7]\n"
     ]
    }
   ],
   "source": [
    "for row in results: \n",
    "    print(row)"
   ]
  },
  {
   "cell_type": "markdown",
   "metadata": {},
   "source": [
    "So this printed each row as a list, complete with the `[]` on either side. But we want to print each element in these lists. "
   ]
  },
  {
   "cell_type": "code",
   "execution_count": 200,
   "metadata": {},
   "outputs": [
    {
     "name": "stdout",
     "output_type": "stream",
     "text": [
      "9, 6, 8, 9, \n",
      "7, 7, 7, 6, \n",
      "7, 6, 4, 9, \n",
      "8, 9, 9, 8, \n",
      "5, 7, 8, 7, \n"
     ]
    }
   ],
   "source": [
    "for row in results:\n",
    "    for score in row: \n",
    "        print(score,end=\", \")\n",
    "    else:\n",
    "        print()"
   ]
  },
  {
   "cell_type": "markdown",
   "metadata": {},
   "source": [
    "I don't like having that trailing comma in there, so I'm going to complicate this just a little bit. Watch how the inner loop is for every element in the row _except_ the last one with `row[:-1]`. Then I do something different for the last one `row[-1]`. "
   ]
  },
  {
   "cell_type": "code",
   "execution_count": 201,
   "metadata": {},
   "outputs": [
    {
     "name": "stdout",
     "output_type": "stream",
     "text": [
      "9,6,8,9\n",
      "7,7,7,6\n",
      "7,6,4,9\n",
      "8,9,9,8\n",
      "5,7,8,7\n"
     ]
    }
   ],
   "source": [
    "for row in results:\n",
    "    for score in row[:-1]: \n",
    "        print(score,end=\",\")\n",
    "    else:\n",
    "        print(row[-1])"
   ]
  },
  {
   "cell_type": "markdown",
   "metadata": {},
   "source": [
    "Now let's work within this double loop in some interesting ways. If we want to calculate the average within row, that's not too hard. For each person we can add up that person's scores and divide by the number of scores. So we will then have a new list called `student_averages`, with one score for each person.\n",
    "\n",
    "Just to reassure you, however, this is not where we stop with Python if we want to get an average. Later we will find ways that are less cumbersome and look more like a one-stop `<collection>.average()`. But it helps to understand how to build your own algorithms like this so that when we get to these other ones you will know what to look for and how to circumvent it in case it does not do precisely what you expected. Also, there will still be lots of times where you will have a collection, and another collection inside there. "
   ]
  },
  {
   "cell_type": "code",
   "execution_count": 101,
   "metadata": {},
   "outputs": [
    {
     "name": "stdout",
     "output_type": "stream",
     "text": [
      "[8.0, 6.75, 6.5, 8.5, 6.75]\n"
     ]
    }
   ],
   "source": [
    "student_averages = []\n",
    "\n",
    "for student_scores in results:\n",
    "    total = 0\n",
    "    for test in student_scores:\n",
    "        total += test\n",
    "    else:\n",
    "        student_averages.append(total/len(student_scores))\n",
    "\n",
    "print(student_averages)"
   ]
  },
  {
   "cell_type": "markdown",
   "metadata": {},
   "source": [
    "From here we can see that Alan's score was `8.0`. Carl had the lowest score with `6.5` and Dana the highest with `8.5`.\n",
    "\n",
    "So _that_ double loop was relatively straightforward. You had an object (the `results` list) and inside was another collection (the test scores) and we did something for each element in the inner collection. What if we wanted to calculate the average per test with the results data? This might be a little more complicated. Later, we might find a more amenable structure like a `pandas` table or `numpy` array. But that's for another day. Today, let's see how one might go about such a challenge with the tools on hand. \n",
    "\n",
    "The trick here is that we will use `enumerate` to get the index of each person's scores and then build a list for the \"per-test\" values which run down the column rather than the \"per-student\" values which ran across the rows."
   ]
  },
  {
   "cell_type": "code",
   "execution_count": 202,
   "metadata": {},
   "outputs": [
    {
     "name": "stdout",
     "output_type": "stream",
     "text": [
      "[7.2, 7.0, 7.2, 7.8]\n"
     ]
    }
   ],
   "source": [
    "num_students = len(results)\n",
    "num_tests = len(results[0])\n",
    "\n",
    "test_totals = [0]*num_tests\n",
    "test_averages = []\n",
    "\n",
    "for student_scores in results:\n",
    "    for c,test in enumerate(student_scores):\n",
    "        test_totals[c] += test\n",
    "else:\n",
    "    for c,total in enumerate(test_totals): \n",
    "        test_averages.append(total/num_students)\n",
    "\n",
    "print(test_averages)"
   ]
  },
  {
   "cell_type": "markdown",
   "metadata": {},
   "source": [
    "That one is probably a bit tricky just starting out. But if you do not understand what I did in that algorithm, try to break it down. One thing I like to do when learning what's going on in a loop is to print some parts of it and then insert a break statement so that something is only done once. For example if I forget what exactly are `student_scores` I would insert a `print(student_scores)` inside the outer for loop and then insert a `break`. \n",
    "\n",
    "In this case, it's also useful to think about what the variable represents once we leave a loop. So what will `test_totals` look like. It started as `[0,0,0,0]`. What was it at the end? Then ask how did we get `test_averages` from `test_totals` (in the `else` condition). "
   ]
  },
  {
   "cell_type": "markdown",
   "metadata": {},
   "source": [
    "## Iterating dictionaries\n",
    "\n",
    "Like lists and sets, dictionaries are collections. But recall that they are collections of `key`:`value` pairs? So what happens when you iterate a dictionary by default? "
   ]
  },
  {
   "cell_type": "code",
   "execution_count": 120,
   "metadata": {},
   "outputs": [
    {
     "name": "stdout",
     "output_type": "stream",
     "text": [
      "salt\n",
      "fat\n",
      "acid\n",
      "heat\n"
     ]
    }
   ],
   "source": [
    "ingredients = {\"salt\":\"parmesean\", \n",
    "               \"fat\":\"olive oil\",\n",
    "               \"acid\":\"vinegar\",\n",
    "               \"heat\":\"toast\"}\n",
    "\n",
    "for test in ingredients:\n",
    "    print(test)"
   ]
  },
  {
   "cell_type": "markdown",
   "metadata": {},
   "source": [
    "Notice that it just printed the keys. This makes sense in a way for a dictionary; it's why you can ask `'salt' in ingredients` and it will return `True`, but `'parmesean' in ingredients` will return `False` even though we can see above that it is a value. The dictionary is focusing on the keys. "
   ]
  },
  {
   "cell_type": "code",
   "execution_count": 121,
   "metadata": {},
   "outputs": [
    {
     "name": "stdout",
     "output_type": "stream",
     "text": [
      "True\n",
      "False\n"
     ]
    }
   ],
   "source": [
    "print('salt' in ingredients)\n",
    "print('parmesean' in ingredients)"
   ]
  },
  {
   "cell_type": "markdown",
   "metadata": {},
   "source": [
    "To get the dictionary to print the values you would want to use `ingredients.values()` which will return the values as a list (or specifically a `dict_list` which is close enough:"
   ]
  },
  {
   "cell_type": "code",
   "execution_count": 123,
   "metadata": {},
   "outputs": [
    {
     "name": "stdout",
     "output_type": "stream",
     "text": [
      "('salt', 'parmesean')\n",
      "('fat', 'olive oil')\n",
      "('acid', 'vinegar')\n",
      "('heat', 'toast')\n"
     ]
    }
   ],
   "source": [
    "for i in ingredients.values(): \n",
    "    print(i)"
   ]
  },
  {
   "cell_type": "markdown",
   "metadata": {},
   "source": [
    "We can ask for both the key and the value at the same time with `<dict>.items()`. So in a for loop we can do the following: "
   ]
  },
  {
   "cell_type": "code",
   "execution_count": 124,
   "metadata": {},
   "outputs": [
    {
     "name": "stdout",
     "output_type": "stream",
     "text": [
      "Parmesean helps with the salt.\n",
      "Olive oil helps with the fat.\n",
      "Vinegar helps with the acid.\n",
      "Toast helps with the heat.\n"
     ]
    }
   ],
   "source": [
    "for category, food in ingredients.items(): \n",
    "    print(f\"{food.capitalize()} helps with the {category}.\")"
   ]
  },
  {
   "cell_type": "markdown",
   "metadata": {},
   "source": [
    "## List comprehensions\n",
    "\n",
    "The list comprehension is literally my favorite syntactic sugar in Python. Often times you will have a list and you will want to create a new list from the old one. For example, imagine having a list of words and you want to turn them all to upper case or to return to the beginning, a list of file names that you want to process. Below I will first show the code pattern that does this by creating a list and appending things to that list, much like what we have seen so far. Then I will show the list comprehension. "
   ]
  },
  {
   "cell_type": "code",
   "execution_count": 125,
   "metadata": {
    "tags": []
   },
   "outputs": [
    {
     "name": "stdout",
     "output_type": "stream",
     "text": [
      "['ALLSPICE', 'BASIL', 'CUMIN']\n"
     ]
    }
   ],
   "source": [
    "my_list = [\"allspice\",\"basil\",\"cumin\"]\n",
    "\n",
    "new_list = []\n",
    "for i in my_list:\n",
    "    i = i.upper()\n",
    "    new_list.append(i)\n",
    "\n",
    "print(new_list)"
   ]
  },
  {
   "cell_type": "code",
   "execution_count": 126,
   "metadata": {
    "tags": []
   },
   "outputs": [
    {
     "name": "stdout",
     "output_type": "stream",
     "text": [
      "['ALLSPICE', 'BASIL', 'CUMIN']\n"
     ]
    }
   ],
   "source": [
    "new_list = [i.upper() for i in my_list]\n",
    "\n",
    "print(new_list)"
   ]
  },
  {
   "cell_type": "markdown",
   "metadata": {},
   "source": [
    "The list comprehension was able to reduce the for loop down considerably. List comps can be pretty complex as well. I will leave out much of that complexity for now, but one thing worth introducing is how you can include a conditional in the comprehension. Imagine you only want the new list to keep _some_ of the items. In such cases, just place a conditional after the for statement, like so:"
   ]
  },
  {
   "cell_type": "code",
   "execution_count": 128,
   "metadata": {
    "tags": []
   },
   "outputs": [
    {
     "name": "stdout",
     "output_type": "stream",
     "text": [
      "['BASIL', 'CUMIN']\n"
     ]
    }
   ],
   "source": [
    "new_list = [i.upper() for i in my_list \n",
    "            if len(i) == 5]\n",
    "\n",
    "print(new_list)"
   ]
  },
  {
   "cell_type": "markdown",
   "metadata": {},
   "source": [
    "## Dictionary Comprehensions\n",
    "\n",
    "Very similar to list comprehensions, sometimes you might want to create a dictionary comprehension. In this case, the syntax is pretty familiar. You simply need to stipulate what is the key and what is the value. See for example how to construct a dictionary comprehension with our foods. "
   ]
  },
  {
   "cell_type": "code",
   "execution_count": 129,
   "metadata": {
    "tags": []
   },
   "outputs": [
    {
     "name": "stdout",
     "output_type": "stream",
     "text": [
      "The new dict comp (with measures in teaspoons):\n",
      " {'Allspice': '1', 'Basil': '1/2', 'Cumin': '2'}\n"
     ]
    }
   ],
   "source": [
    "my_dict = {\"allspice\":\"1 tsp\",\n",
    "           \"basil\":\"1/2 tsp\",\n",
    "           \"cumin\":\"2 tsp\"}\n",
    "\n",
    "new_dict = {key.title():val.split()[0] for key,val in my_dict.items()}\n",
    "\n",
    "print(\"The new dict comp (with measures in teaspoons):\\n\",new_dict)"
   ]
  },
  {
   "cell_type": "markdown",
   "metadata": {},
   "source": [
    "# While loops\n",
    "\n",
    "In the case of `for` loops and list comprehensions, we had a sense that we first had a finite collection of something and then we were going to iterate through that collection doing something every time until we exhaust elements of a collection (or until we threw a `break` statement). But what if we do not know how long to wait for something? For example, if I generate a set of random numbers, how long before I get the number 7? That's uncertain. But we can establish that a set of random numbers should return a 7 eventually. \n",
    "\n",
    "See below how I use a while loop to keep running until we get a 7. "
   ]
  },
  {
   "cell_type": "code",
   "execution_count": 203,
   "metadata": {},
   "outputs": [
    {
     "name": "stdout",
     "output_type": "stream",
     "text": [
      "1\n",
      "8\n",
      "4\n",
      "2\n",
      "7\n"
     ]
    }
   ],
   "source": [
    "x = True\n",
    "\n",
    "while x:\n",
    "    random_number = random.randint(0,10)\n",
    "    print(random_number)\n",
    "\n",
    "    if random_number == 7: # If you comment this out,\n",
    "        x = False          # it will run indefinitely.\n",
    "                           # Press stop, control-c, \n",
    "                           # or from the Jupyter menu: Kernel -> interrupt"
   ]
  },
  {
   "cell_type": "markdown",
   "metadata": {},
   "source": [
    "If you leave out the `x = False` above, you will get an infinite loop since there is no stopping condition. You can try this for fun but you will eventually run out of memory or your processor will overheat. Either one is not good. You can stop an infinite loop by selecting `Kernel -> Interrupt`. If that doesn't work, try `Restart Kernel` from the menu above. \n",
    "\n",
    "One common code pattern for a `while` loop is when asking for user input. Imagine you have a series of choices and a text prompt. You can loop through this prompt until you get a valid choice. First let's observe a simple user input. Then let's put that in a `while` loop. "
   ]
  },
  {
   "cell_type": "code",
   "execution_count": null,
   "metadata": {},
   "outputs": [],
   "source": [
    "value = input(\"Please type some text and hit enter\")\n",
    "print(f\"\\nIt appears you typed:\\n{value}\")"
   ]
  },
  {
   "cell_type": "code",
   "execution_count": 204,
   "metadata": {},
   "outputs": [
    {
     "name": "stdin",
     "output_type": "stream",
     "text": [
      "Type Y to leave the loop. Type something else to stay: well yes\n"
     ]
    },
    {
     "name": "stdout",
     "output_type": "stream",
     "text": [
      "Oh interesting, tell me more!\n"
     ]
    },
    {
     "name": "stdin",
     "output_type": "stream",
     "text": [
      "Type Y to leave the loop. Type something else to stay: y\n"
     ]
    },
    {
     "name": "stdout",
     "output_type": "stream",
     "text": [
      "You have now exited the loop\n"
     ]
    }
   ],
   "source": [
    "input_continue = True\n",
    "\n",
    "while input_continue: \n",
    "    value = input(\"Type Y to leave the loop. Type something else to stay:\")\n",
    "    if value.lower() == 'y':\n",
    "        input_continue = False\n",
    "    else:\n",
    "        print(\"Oh interesting, tell me more!\")\n",
    "else: \n",
    "    print(\"You have now exited the loop\")"
   ]
  },
  {
   "cell_type": "markdown",
   "metadata": {},
   "source": [
    "# Errors to be handled and sometimes raised \n",
    "\n",
    "The ways above to control the flow of the program tend to let us continue the program under some conditions or for some elements. We might use a for loop to iterate or an if statement for some conditions, but we still want to keep the program running. \n",
    "\n",
    "Yet, sometimes we want to signal to the user that this program is not behaving as expected. In this case, we can `raise` an error. On the other hand, there might be times when the program would typically raise an error on its own, but we anticipate that and catch that error so our program does not stop running. In Chapter \\ref{ch:datatypes} we introduced errors and I provided some tips on how to test your code to deal with them. There when I said deal with them, I implicitly meant make the error go away. However, here instead, I am now thinking about how we can use errors to manage the flow of the program. \n",
    "\n",
    "This will be especially pertinent with work on the web, as errors with connections happen all the time, but we normally want to then just pause the program for a second or two before trying again. \n",
    "\n",
    "Here is an example of an error: "
   ]
  },
  {
   "cell_type": "code",
   "execution_count": 143,
   "metadata": {},
   "outputs": [
    {
     "ename": "ZeroDivisionError",
     "evalue": "division by zero",
     "output_type": "error",
     "traceback": [
      "\u001b[0;31m---------------------------------------------------------------------------\u001b[0m",
      "\u001b[0;31mZeroDivisionError\u001b[0m                         Traceback (most recent call last)",
      "Cell \u001b[0;32mIn[143], line 1\u001b[0m\n\u001b[0;32m----> 1\u001b[0m \u001b[38;5;241m1\u001b[39m\u001b[38;5;241m/\u001b[39m\u001b[38;5;241m0\u001b[39m\n",
      "\u001b[0;31mZeroDivisionError\u001b[0m: division by zero"
     ]
    }
   ],
   "source": [
    "1/0"
   ]
  },
  {
   "cell_type": "markdown",
   "metadata": {},
   "source": [
    "The error is a zero division error. As we know from maths, we cannot divide by zero for zero means nothing (sparing us all the complex proofs of this, which are really interesting, but not for here). The important part is that we can catch the error and move on if we anticipate it and think it's not going to affect future code. We do this using `try` and `except` statements. See the example below: "
   ]
  },
  {
   "cell_type": "code",
   "execution_count": 145,
   "metadata": {},
   "outputs": [
    {
     "name": "stdout",
     "output_type": "stream",
     "text": [
      "1/-2 is -0.5\n",
      "1/-1 is -1.0\n",
      "Caught an error! 1/0 is nan\n",
      "1/1 is 1.0\n",
      "1/2 is 0.5\n"
     ]
    }
   ],
   "source": [
    "import numpy as np \n",
    "\n",
    "for i in range(-2,3):\n",
    "    try:\n",
    "        print(f\"1/{i} is {1/i}\")\n",
    "    except ZeroDivisionError:\n",
    "        print(f\"Caught an error! 1/{i} is {np.nan}\")"
   ]
  },
  {
   "cell_type": "markdown",
   "metadata": {},
   "source": [
    "If you wanted to create your own exception, we would say you 'raise' an error. So for example, if your code should throw an error when you receive a variable of the wrong type, you can `raise` a `TypeError`. This is much less common in data analysis than simply catching errors. "
   ]
  },
  {
   "cell_type": "code",
   "execution_count": 148,
   "metadata": {},
   "outputs": [
    {
     "ename": "TypeError",
     "evalue": "The program did not expect an integer.",
     "output_type": "error",
     "traceback": [
      "\u001b[0;31m---------------------------------------------------------------------------\u001b[0m",
      "\u001b[0;31mTypeError\u001b[0m                                 Traceback (most recent call last)",
      "Cell \u001b[0;32mIn[148], line 4\u001b[0m\n\u001b[1;32m      1\u001b[0m x \u001b[38;5;241m=\u001b[39m \u001b[38;5;241m8\u001b[39m\n\u001b[1;32m      3\u001b[0m \u001b[38;5;28;01mif\u001b[39;00m \u001b[38;5;28mint\u001b[39m(x):\n\u001b[0;32m----> 4\u001b[0m     \u001b[38;5;28;01mraise\u001b[39;00m \u001b[38;5;167;01mTypeError\u001b[39;00m(\u001b[38;5;124m\"\u001b[39m\u001b[38;5;124mThe program did not expect an integer.\u001b[39m\u001b[38;5;124m\"\u001b[39m)\n",
      "\u001b[0;31mTypeError\u001b[0m: The program did not expect an integer."
     ]
    }
   ],
   "source": [
    "x = 8\n",
    "\n",
    "if int(x):\n",
    "    raise TypeError(\"The program did not expect an integer.\")"
   ]
  },
  {
   "cell_type": "markdown",
   "metadata": {},
   "source": [
    "Then by combining raising and catching errors, you can find ways to ensure that your code is more robust, particularly when importing and processing raw data. "
   ]
  },
  {
   "cell_type": "markdown",
   "metadata": {},
   "source": [
    "When we `raise` an error, that means we send an error object to the program. This is a special kind of object that will usually end the program unless we `except` it.\n",
    "\n",
    "In the `1/0` case above we just said `except` and left out the `ZeroDivisionError` it would catch all possible errors. This is not necessarily what we want, since some of those errors might be legitimately concerning while others are things we anticipate as a matter of course. But sometimes you might want to catch all errors and then find out which one it was. Since the error itself is an object, it has properties we can work with. See below: "
   ]
  },
  {
   "cell_type": "code",
   "execution_count": 153,
   "metadata": {},
   "outputs": [
    {
     "ename": "ZeroDivisionError",
     "evalue": "division by zero",
     "output_type": "error",
     "traceback": [
      "\u001b[0;31m---------------------------------------------------------------------------\u001b[0m",
      "\u001b[0;31mZeroDivisionError\u001b[0m                         Traceback (most recent call last)",
      "Cell \u001b[0;32mIn[153], line 2\u001b[0m\n\u001b[1;32m      1\u001b[0m \u001b[38;5;28;01mtry\u001b[39;00m:\n\u001b[0;32m----> 2\u001b[0m     \u001b[38;5;241m1\u001b[39m\u001b[38;5;241m/\u001b[39m\u001b[38;5;241m0\u001b[39m\n\u001b[1;32m      3\u001b[0m \u001b[38;5;28;01mexcept\u001b[39;00m \u001b[38;5;167;01mTypeError\u001b[39;00m \u001b[38;5;28;01mas\u001b[39;00m err:\n\u001b[1;32m      4\u001b[0m     \u001b[38;5;28mprint\u001b[39m(err)\n",
      "\u001b[0;31mZeroDivisionError\u001b[0m: division by zero"
     ]
    }
   ],
   "source": [
    "try:\n",
    "    1/0\n",
    "except Exception as err:\n",
    "    print(err)\n",
    "    print(type(err).__name__)"
   ]
  },
  {
   "cell_type": "markdown",
   "metadata": {},
   "source": [
    "Normally properties of an object do not start with `__` or \"the dunder\" for double underscore. When a variable or method starts with `__` it normally means it is only meant to be used by the system and not in code. But Python still exposes these methods in case you want to do any advanced tinkering, like printing the name of an error. "
   ]
  },
  {
   "cell_type": "markdown",
   "metadata": {},
   "source": [
    "# Conclusion\n",
    "\n",
    "There are many ways to direct the flow of a program. Here we first saw the use of Boolean operators to evaluate something as `True` or `False`. We then saw how we could use this in `if` statements in order to do something under some conditions. Then we looked at loops, first the for loop, followed by list comprehensions and while loops. In each case, we were able to direct the flow of a program by doing something for each element of a collection. Finally, we explored errors, which are ways in which we can halt a program entirely (as well as how to catch these errors so our program does not halt if we can anticipate that error). \n",
    "\n",
    "These provide a very sound basis for a program. Yet they are not the last topic on flow within a program. In fact they are not even the last word on loops. But now it would be worth thinking about how we can collect many of these operations in a single place if we want to use them together repeatedly. This single place with be a function. Then with a function we can really start to create programs with a variety of structures depending on our needs. You can see this in the next chapter. "
   ]
  }
 ],
 "metadata": {
  "kernelspec": {
   "display_name": "Python 3 (ipykernel)",
   "language": "python",
   "name": "python3"
  },
  "language_info": {
   "codemirror_mode": {
    "name": "ipython",
    "version": 3
   },
   "file_extension": ".py",
   "mimetype": "text/x-python",
   "name": "python",
   "nbconvert_exporter": "python",
   "pygments_lexer": "ipython3",
   "version": "3.11.5"
  }
 },
 "nbformat": 4,
 "nbformat_minor": 4
}
