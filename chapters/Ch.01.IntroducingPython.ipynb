#New download

{
 "cells": [
  {
   "cell_type": "markdown",
   "metadata": {},
   "source": [
    "# What is Python?\n",
    "\n",
    "[![Binder](https://mybinder.org/badge.svg)](https://mybinder.org/v2/gh/berniehogan/introducingpython/main?filepath=chapters%2FCh.01.IntroducingPython.ipynb)\n",
    "[![Colab](https://colab.research.google.com/assets/colab-badge.svg)](https://colab.research.google.com/github/berniehogan/introducingpython/blob/main/chapters/Ch.01.IntroducingPython.ipynb)\n",
    "\n",
    "Python is a programming language. It is interpreted by the computer and transformed into low level code that can be interpreted by a processor. To make statements in Python, the most direct way is to type commands into a \"Python console\" (for example, by opening the terminal, or on windows the \"anaconda prompt\", then typing \"python\"). If you already have Python installed, on a Mac or Linux computer (and maybe someday Windows PowerShell) you can open up the terminal and type `python`. Then you will see a welcome message and a series of three chevrons, like so: (with what is likely to be some slight difference in the welcome message depending on your setup.)\n",
    "\n",
    "~~~ python\n",
    "Python 3.7.3 (default, Mar 27 2019, 16:54:48) \n",
    "[Clang 4.0.1 (tags/RELEASE_401/final)] :: Anaconda, Inc. on darwin\n",
    "Type \"help\", \"copyright\", \"credits\" or \"license\" for more information.\n",
    ">>>\n",
    "~~~\n",
    "\n",
    "And in here you can enter commands. For more complex work, you will want to turn to Jupyter notebooks and Python script files (`*.py` files). \n",
    "\n",
    "To exit the Python console, type `exit()` or press control-D. Then you will see the standard prompt, which will likely be either a single chevron (`>`) or a `\\$`. \n",
    "\n",
    "In this book, I am writing as if we are working in a Jupyter lab environment. You might be reading this on the screen or in a book form. But we will act as if the grey shaded areas are blocks of code that you can run, and the unshaded areas, including code, are just text to read. \n",
    "\n",
    "Because this book began its life as a Jupyter notebook, it leverages certain features of Jupyter, such as _syntax highlighting_. So you will see different text in a different `font` or colour, such as: "
   ]
  },
  {
   "cell_type": "code",
   "execution_count": null,
   "metadata": {},
   "outputs": [],
   "source": [
    "print(\"Hello world\")"
   ]
  },
  {
   "cell_type": "markdown",
   "metadata": {},
   "source": [
    "Instead of typing into a console, we will be typing Python into cells in a Jupyter notebook and running these. This makes it like halfway between running piecemeal in a console or running all-at-once in a single script. "
   ]
  },
  {
   "cell_type": "markdown",
   "metadata": {},
   "source": [
    "# Working with Anaconda and Jupyter\n",
    "\n",
    "One of the best things about Python is that it now has an entire ecosystem for scientific computing. In this book we will be using the incredible Anaconda package for Python. This package includes a recent version of the base Python language and a bunch of useful libraries for scientific computing. This book will not make use of most of these libraries, but they do feature in data science work generally. \n",
    "\n",
    "In addition to installing Python, Anaconda comes with a few ways to code and develop Python programs. For standalone programs there's Spyder. It is a very involved development environment with features to help in developing code that spans multiple script files. Similar to Spyder is PyCharm, which is not presently included in Anaconda. But one program is especially useful, and that's Jupyter. Jupyter is a browser-based tool for viewing Python code alongside text, figures and results. It's like a _Microsoft Word_ document where paragraphs can be run and results can be inserted directly into the document. Jupyter Lab is like a workspace where you can run multiple files in different tabs, like browser windows. It also has a nice and growing set of extensions, such as my personal favorite, the Table of Contents extension.\n",
    "\n",
    "These documents are called _notebooks_. Their default extension is `.ipynb`, which stands for \"ipython notebook\". Before Jupyter there was a souped up Python console called ipython. You can still run it from the terminal by typing `ipython`. But Jupyter is like a souped up ipython.\n",
    "\n",
    "Jupyter notebooks can be run on their own in a variety of ways.\n",
    "\n",
    "1. The Jupyter notebook app, which you can run that from the \"Anaconda Navigator\" application. You can also run it from the terminal by typing `jupyter notebook` (that's the regular terminal `\\$`, not the Python console `>>>`). \n",
    "2. If you have a Google account, you can go to [https://colab.google.com](Google Colab) and upload your notebook or start a new one. If you store your notebooks on your Google drive you can open them in Google Colab by right clicking on them and selecting open with &rarr; Google Colab. There are similar open source and university run services like [Binder](https://mybinder.org). They tend not to be as polished as Google but might be right for you and do not require you to have a Google account.  \n",
    "3. You can read a Jupyter notebook if it has been uploaded to **GitHub repository**. Often these notebooks also have little badges in them you can click, like \"Open in Google Colab\". This book does not, yet. But it will render the file even though you cannot run the code there. \n",
    "4. Last but definitely not least, Jupyter Lab is the most fully fledged way to run Jupyter notebooks. It is my current Python coding environment of choice. You can run it from the Terminal by typing `jupyter lab`. "
   ]
  },
  {
   "cell_type": "markdown",
   "metadata": {},
   "source": [
    "## How to get Python, Anaconda, and Jupyter?\n",
    "\n",
    "To get the Anaconda package and all the bells and whistles, you'll need about 2-3 GB space on your computer. It's a big ask on smaller devices, but it's very thorough especially with packages like `pandas` (tables) and `matplotlib` (drawing) which can be a real pain on their own. I personally wish they threw in `geopandas` because as of this writing, it is still a separate install and it is really, really fussy. \n",
    "\n",
    "When you download and install Anaconda, you will get an application called _Anaconda Navigator_. This is an application hub that allows you to open and run a variety of applications for scientific computing. The first application in the upper left corner is probably Jupyter Lab and the second is Jupyter. If you haven't used the terminal before you might find it easier to run Jupyter from the Navigator application, but I prefer to run it directly from the Terminal (or when using windows, running it from the `Anaconda PowerShell`). "
   ]
  },
  {
   "cell_type": "markdown",
   "metadata": {},
   "source": [
    "## Which version of Anaconda? \n",
    "  \n",
    "There are many versions of Anaconda. For your computer, you will want to select the one for the right **operating system** (MacOS, Windows, or Linux...but not ChromeOS or iOS, these mobile-oriented operating systems are not ready for data science).  \n",
    "\n",
    "Then you will want to choose your version of Python. Get the latest one. As of this writing that would be the Python 3.8 graphical installer for your preferred OS. It will be the \"individual version\", not enterprise or anything more fancy. You will almost certainly want a 64-bit version. "
   ]
  },
  {
   "cell_type": "markdown",
   "metadata": {},
   "source": [
    "# Getting started with Jupyter Lab \n",
    "\n",
    "When you click on the Jupyter Lab icon in the Anaconda Navigator it should open up your default web browser and navigate to a page with the following URL: http://localhost:8888/lab . This URL is a little different from conventional URLs. Instead of a domain name like www.eff.org, it is just the word `localhost`. This is your machine. It turns out Jupyter lab is actually a small server running on your computer that is serving you the application through a browser. The `8888` is a port number. A server communicates using different ports, often for different services. Standard unencrypted web traffic runs through port 80, while email often runs through ports 25 and 587. When I say open Jupyter Lab, I mean navigate to that particular browser tab that is running Jupyter Lab. Remember, however, if Jupyter is not running in the background then `localhost:8888` will just display a blank page. You must launch the server first and then you can use it. \n",
    "\n",
    "When you open Jupyter Lab for the first time, you'll be greeted with a navigation pane on the left and side and a single tab open labeled 'Launcher'. You can use the Launcher to create a new Jupyter notebook. Create one using the first button (labeled \"Python 3\"). This is the default Python Jupyter notebook. There are a few other types of notebooks that you can create at this point. \n",
    "\n",
    "Here are some useful details about Jupyter Lab: \n",
    "1. _The browser address bar._ This is where you would type a URL. At the moment, it probably shows localhost:8888/lab. This means that you are looking at a webpage that is run from your local computer. 'localhost' is a shorthand for the Internet Protocol (IP) address for one's own computer.  \n",
    "\n",
    "2. _The Jupyter file menu._ This is where you can click on commands for Jupyter such as **File**&rarr;**New Launcher** so you can create a new notebook. This is not the browser's file menu (which may be hidden if this window is in full screen). Notice one of the file menu items is called 'Kernel'. This is the term for the instance of Python that runs the code, stores data, and returns a result. Each lab notebook has its own kernel. Sometimes we will need to restart the kernel, for example if we accidentally run a command that has no end, such as \"count every number\". The other important thing to note in kernel is that we can clear output. Sometimes, we will want to start our Jupyter notebooks fresh. Clicking **kernel**&rarr;**Restart Kernel and Clear All Outputs...** will make sure that all the cells are treated as if they have never ran. It's good to do this and re-run all your code from start to finish before sharing with other people.\n",
    "\n",
    "3. _The navigation sidebar._ On the left-hand side is where you can select a file or check to see which files are currently running. The top icon is the file icon, it points to a file browser. The navigation is pretty similar to what you would get with a file browser on your computer such as 'Finder' on Mac or 'Explorer' on Windows. \n",
    "\n",
    "4. _The tabs panel._ With Jupyter Lab you can have multiple tabs available as different workspaces, each using a different Jupyter notebook or file. These tabs work like browser tabs. You can click on one to start working on that tab, drag the panels to change their order and check whether they have been recently saved by seeing whether there is a circle in the tab name on the right-hand side. You'll notice that there's a new file you just created and a second tab called 'launcher'. \n",
    "\n",
    "5. _The actions panel_. This small panel has some important and common actions like 'save', 'run' and 'stop'. I tend to use keyboard shortcuts for these actions. You will definitely want to notice on this panel where it says the word 'code'. That's where we assign the 'type' of a cell. You can change the type of a cell by selecting a different type from the drop-down menu that appears when you click where it says 'Code'/'Markdown'. On the right hand side it says 'Python 3' which means that this particular notebook interprets code as Python 3 code. The right most dot is a status meter. When the computer is busy running code the circle is filled in and looks like a spot. When the computer is idle the circle is empty and looks like a ring. \n",
    "\n",
    "6. _The main panel_. This is where the work gets done. In this panel you'll see that content is organised in cells. Each cell can be either 'code', 'Markdown' or 'raw'. **Raw** text is not highlighted and the computer just ignores special characters and code. **Code** means that the contents of a cell are treated as Python code. **Markdown** is text that has extra characters to denote formatting. For example, Markdown uses two asterisks on either side of a string to indicate it should be bold: When I type \\*\\*this\\*\\* into a Markdown panel the text is rendered like **this**. Markdown is discussed more just below.\n",
    "\n",
    "7. _A Python cell_. You can tell this is a Python cell on your computer because it has _syntax highlighting_ that indicates Python-oriented words and variables. For example, the word 'print' will show up in green and comments will show up in blue. It also will say 'code' in the cell type in the main panel. To run the cell you can do any of the following: \n",
    "\n",
    " * The file menu. Click \"Run\"&rarr;\"Run Selected Cells\". \n",
    " * The right facing triangle in the actions panel. \n",
    " * (My favourite) Shift-enter on the keyboard.\n",
    "\n",
    "8. _Code numbers_. When you run a cell, it will report a number off to the left of the cell. That number represents the order in which cells were run. If there is no number that means the cell has not run yet. If you run a cell a second time, it will increment the number, so the number could actually go much higher than the number of cells in the notebook. You can also see a blue bar to the left of the number. Click that bar and it will collapse the output. This is handy if you have just printed out a lot of output but you want to hide it while you work on the code underneath."
   ]
  },
  {
   "cell_type": "markdown",
   "metadata": {},
   "source": [
    "## How to add text to a Markdown cell\n",
    "A markdown cell is one that has text in it. Markdown is a simple way to add features to text, like _italics_, headers, ~~strikethrough~~, and **bold**. In a Jupyter notebook that is rendered, you can click on a cell to see the Markdown that produced the text. Some of the more common things you will see in Markdown:\n",
    "\n",
    "1. Use two tildes (the ~ character) for ~~strikethrough~~\n",
    "2. Use two asterisks (the * character) for **bold**\n",
    "3. Use underscores (the _ character) for _italics_. \n",
    "4. Lists are auto generated by having several lines, where each starts with an asterisk and a space.\n",
    " * Here is a list item\n",
    " * A second item\n",
    " * These are indented because we had a space before the asterisk\n",
    "5. You can also embed code in a Markdown cell. It won't run but it will have syntax highlighting and a monospaced font. This is using three tildes and then the name of the language like so:  \n",
    "\n",
    "    \\~~~ python\n",
    "    \n",
    "    print(\"Hello World\")\n",
    "    \n",
    "    \\~~~\n",
    "    \n",
    "and it will be formatted on the screen like: \n",
    "\n",
    "~~~ python    \n",
    "print(\"Hello World\")\n",
    "~~~\n",
    "\n",
    "6. Use hash (the # symbol) at the beginning of a line to make it a heading. You can use two hashes to make it a subheading (or three for subsubheading, etc...). \n",
    "7. Use the dollar symbol on either side of a formula to use maths notation like $e^{{\\pi}i} = -1$ (and I use it for $commands$ ). \n",
    "8. Three or more dashes at the beginning of a line create a straight line across the page \n",
    "\n",
    "---"
   ]
  },
  {
   "cell_type": "markdown",
   "metadata": {},
   "source": [
    "## How to create a new cell / navigate with the keyboard\n",
    "\n",
    "At any given time only one cell might be in focus. To say 'in focus' means that the cell is editable. This is denoted at the bottom of the screen where it says \"Mode: Edit\". It also means keyboard shortcuts and the computer's list of undo actions refer to the text in that specific cell. When a cell is out of focus, it is still indicated with a blue strip on the left-hand side, but keyboard shortcuts and the undo actions refer to the Jupyter file and cells rather than their contents. At the bottom it will say \"Mode: Command\". It is important to be able to navigate into and out of focus for a given cell with the keyboard if you want to be a fluent user of Jupyter. Being able to have cells of different types organised in your notebooks is where Jupyter shines. For example, you can have one cell of code, then graphical output, a well-formatted table of numbers, and your notes just below. Moving around these cells can help you navigate not just the code, but the overall analysis. It also helps you to think about chunking your code and organising your questions. \n",
    "\n",
    "To change the focus from one cell to another, you can click on a new cell or 'run' the current cell. To run the current cell, press $shift-enter$. \n",
    "\n",
    "To get out of focus (\"Mode: Command\" ) you can either: \n",
    "\n",
    "* Run the current cell ($shift-enter$), \n",
    "* Escape the cell ($escape key$).\n",
    "* $Single-click$ outside of the cell. \n",
    "\n",
    "To get in focus (\"Mode: Edit\") you can either:\n",
    "\n",
    "* Press $enter$,\n",
    "* $Double-click$ with the mouse.\n",
    "\n",
    "If the cell is not in focus you can tell because there is no cursor and pressing up or down will move the blue bar on the left hand side up and down. If it is in focus you can tell because pressing up and down will move the cursor within the cell. \n",
    "\n",
    "To create a new cell, you have to be out of focus. You can do this by pressing $a$ for above and $b$ for below the current highlighted cell. \n",
    "\n",
    "To delete a cell, you press $d d$, that's $d$ twice. Remember that this only happens when you are not in focus, otherwise you would just be typing the letters dd into the cell. \n",
    "\n",
    "To change a cell from 'code' to 'Markdown' you can either:\n",
    "\n",
    "- Use the menu at the top,\n",
    "- When the cell is not in focus you can press $c$ for code, $r$ for raw and $m$ for Markdown. "
   ]
  },
  {
   "cell_type": "markdown",
   "metadata": {},
   "source": [
    "## How to write formulae in a cell \n",
    "\n",
    "There are lots of times when it helps to show a formula in addition to some code snippets or claims. For example, here is a formula for getting the average (or specifically the 'arithmetic mean'):\n",
    "\n",
    "$$ \\bar{x} = \\frac{1}{n} \\sum^{n}_{i=1}x_{i} $$\n",
    "\n",
    "This formula was not written with Markdown but with a special typesetting language called $\\LaTeX$. Technical papers are often drafted in $\\LaTeX$ as are many books in STEM fields. It is less common in social sciences, but it is really handy. I wrote my dissertation in a combination of $\\LaTeX$ and Markdown.\n",
    "\n",
    "The formula was given its own line because it was enclosed with `$$` characters. Here is what the code looks like: `\\ bar{x} = \\frac{1}{n} \\sum^{n}_{i=1}x_{i}`. If we enclose it with single  `$` it will be a formula inline, like so: $\\bar{x} = \\frac{1}{n} \\sum^{n}_{i=1}x_{i}$. I use inline formulae for most numbers.\n",
    "\n",
    "If you click on this cell, you can see the formatting underneath. Here we are just using MathJax, which is a subset of LaTeX used for formulae. StackExchange have a nice [brisk tutorial of the syntax of MathJax](https://math.meta.stackexchange.com/questions/5020/mathjax-basic-tutorial-and-quick-reference). Basically, there is syntax for:\n",
    "\n",
    "* Superscripts , `x^i` $e^i$, subscripts, `x_i` $e_i$, \n",
    "* Fractions, with `\\frac{NUMERATOR}{DENOMINATOR}`, as in $\\frac{x^3}{y_i}$\n",
    "* Parentheses (using `\\left(` and `\\right)` to scale properly) as in $\\left(\\frac{\\sqrt{(\\bar{x}-x_i)^2}}{n}\\right)$\n",
    "* Summation, product, and related symbols. `\\sum` for $\\sum$, and `\\prod` for $\\prod$.\n",
    "* Greek symbols. Use their name for the symbol such as `\\alpha` for $\\alpha$ or `\\omega` for $\\omega$.\n",
    "* A host of diacritics, maths symbols, and fonts. Check the tutorial above for clear examples."
   ]
  },
  {
   "cell_type": "markdown",
   "metadata": {},
   "source": [
    "## The big Jupyter Gotcha \n",
    "\n",
    "There are many advantages to running code in Jupyter but there are a few caveats. One in particular is really important to discuss right up front: You can run cells in any order even if you do not mean to. From this you can run into some pretty common issues. \n",
    "\n",
    "1. Running code out of sequence. Imagine that in cell one I clean up some text (for example, I remove all the periods and commas). Then in cell two I run some code on that text (for example, make it ALL CAPS). Now imagine I then go back and do something else in cell one, such as change my code to remove apostrophes as well. So I run cell one again, but skip the second cell. Now my data is not in ALL CAPS and subsequent cells will not get the data they expected. \n",
    "\n",
    "2. The \"I've changed my variables to make them read better\" issue. This one is my number one gotcha. As an example, I might change a variable name once I get my code working but want to make it more readable. But because Jupyter does not have a great 'find and replace' system, I might forget to change _all_ of the instances of a variable. So if the variable was called `tl` but I want it to be `tweet_list`, then I replace the variable name. But what if I do not change it _everywhere_? There might still be a tl left in the code somewhere. Here's the gotcha: **Therefore, the program keeps running (since `tl` was already created)**. But the next time I restart the program or when you, the reader, try to run my Jupyter notebook, `tl` will not be created, `tweet_list` will. So the program will throw an error that any remaining `tl` is an unrecognised variable. \n",
    "\n",
    "In general,\n",
    "\n",
    "- Run your Jupyter cells in order, unless absolutely necessary. \n",
    "- If you change a variable, be sure to change it __everywhere__. \n",
    "- If you change a cell further up in your code, run every line afterwards. \n",
    "- If you send notebooks to other people, then from the menu: \"Kernel\"&rarr;\"Restart Kernel and Run All Cells...\". If you get an error then debug it before you send the code to people. "
   ]
  }
 ],
 "metadata": {
  "kernelspec": {
   "display_name": "Python 3 (ipykernel)",
   "language": "python",
   "name": "python3"
  },
  "language_info": {
   "codemirror_mode": {
    "name": "ipython",
    "version": 3
   },
   "file_extension": ".py",
   "mimetype": "text/x-python",
   "name": "python",
   "nbconvert_exporter": "python",
   "pygments_lexer": "ipython3",
   "version": "3.9.7"
  }
 },
 "nbformat": 4,
 "nbformat_minor": 4
}
